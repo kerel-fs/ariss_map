{
 "cells": [
  {
   "cell_type": "markdown",
   "metadata": {},
   "source": [
    "## Fetch ground station data"
   ]
  },
  {
   "cell_type": "code",
   "execution_count": 1,
   "metadata": {},
   "outputs": [],
   "source": [
    "# Insert observation_id's\n",
    "observation_ids = [169356,\n",
    "                   169357,\n",
    "                   169360,\n",
    "                   169348,\n",
    "                   169345,\n",
    "                   169362,\n",
    "                   169353,\n",
    "                   169350,\n",
    "                   169346,\n",
    "                   169351,\n",
    "                   169349,\n",
    "                   169354,\n",
    "                   169096,\n",
    "                   169355,\n",
    "                   168732,\n",
    "                   169347]"
   ]
  },
  {
   "cell_type": "code",
   "execution_count": 2,
   "metadata": {},
   "outputs": [],
   "source": [
    "# Get station location from the observation via the observation_id\n",
    "\n",
    "import requests\n",
    "\n",
    "NETWORK_BASE_URL = 'https://network.satnogs.org/api'\n",
    "observations = []\n",
    "for observation_id in observation_ids:\n",
    "    r = requests.get(url='{}/observations/{}/'.format(NETWORK_BASE_URL, observation_id))\n",
    "    if r.status_code != requests.codes.ok:\n",
    "        print(\"Observation {} not found in network.\".format(observation_id))\n",
    "    observations.append(r.json())"
   ]
  },
  {
   "cell_type": "code",
   "execution_count": 3,
   "metadata": {},
   "outputs": [],
   "source": [
    "# Create ground station GeoJSON feature collection\n",
    "import geojson\n",
    "\n",
    "gs_features = []\n",
    "for observation in observations:\n",
    "    ob_feature = geojson.Feature(geometry=geojson.Point((observation['station_lng'],\n",
    "                                                         observation['station_lat'])),\n",
    "                                 properties=observation)\n",
    "    gs_features.append(ob_feature)\n",
    "# gs_collection = geojson.FeatureCollection(features)"
   ]
  },
  {
   "cell_type": "markdown",
   "metadata": {},
   "source": [
    "## Fetch satellite data"
   ]
  },
  {
   "cell_type": "code",
   "execution_count": 4,
   "metadata": {},
   "outputs": [],
   "source": [
    "# Find the first start time and the last end time\n",
    "from datetime import datetime, date\n",
    "\n",
    "\n",
    "start_time_str = sorted(observations, key=lambda obs: obs['start'])[0]['start']\n",
    "end_time_str = sorted(observations, key=lambda obs: obs['end'])[-1]['end']\n",
    "\n",
    "start_time = datetime.strptime(start_time_str, '%Y-%m-%dT%H:%M:%SZ')\n",
    "end_time = datetime.strptime(end_time_str, '%Y-%m-%dT%H:%M:%SZ')"
   ]
  },
  {
   "cell_type": "code",
   "execution_count": 5,
   "metadata": {},
   "outputs": [],
   "source": [
    "# Get TLE of the satellite\n",
    "# NOTE: Couldn't find an API endpoint for this,\n",
    "# leave this code here for the future\n",
    "\n",
    "norad_cat_id = observations[0]['norad_cat_id']\n",
    "DB_BASE_URL = 'https://db.satnogs.org/api'\n",
    "\n",
    "r = requests.get(url='{}/satellites/{}/'.format(DB_BASE_URL, norad_cat_id))\n",
    "if r.status_code != requests.codes.ok:\n",
    "    print(\"ERROR: Satellite {} not found in network.\".format(norad_cat_id))\n",
    "satellite_meta = r.json()\n",
    "satellite_meta['start'] = start_time_str\n",
    "satellite_meta['end'] = end_time_str"
   ]
  },
  {
   "cell_type": "code",
   "execution_count": 6,
   "metadata": {},
   "outputs": [],
   "source": [
    "# Calculate satellite ground track using pyephem\n",
    "# (Fetching the TLE wasn't possible, use hardcoded TLE instead)\n",
    "import ephem\n",
    "from datetime import datetime\n",
    "\n",
    "\n",
    "# Return 'num' evenly spaced datetimes in the range from 'start' to 'stop'\n",
    "def lin_datetime_range(start, end, num=50):\n",
    "    time_step = (end - start)/num\n",
    "    for n in range(num):\n",
    "        yield start + n * time_step\n",
    "\n",
    "line1 = \"ISS (ZARYA)\"\n",
    "\n",
    "# Source: https://network.satnogs.org/observations/169360/\n",
    "line2 = '1 25544U 98067A   18177.59501089  .00001867  00000-0  35640-4 0  9995'\n",
    "line3 = '2 25544  51.6402 331.8141 0003663 229.9897 168.6155 15.53970531119984'\n",
    "\n",
    "satellite = ephem.readtle(line1, line2, line3)\n",
    "sat_positions = []\n",
    "for t in lin_datetime_range(start_time, end_time, num=50):\n",
    "    satellite.compute(t)\n",
    "    sat_positions.append((satellite.sublong/ephem.degree,\n",
    "                         satellite.sublat/ephem.degree))\n",
    "sat_linestring = geojson.LineString(sat_positions)\n",
    "sat_feature = geojson.Feature(geometry=sat_linestring, properties=satellite_meta)"
   ]
  },
  {
   "cell_type": "markdown",
   "metadata": {},
   "source": [
    "## Combine both Features"
   ]
  },
  {
   "cell_type": "code",
   "execution_count": 7,
   "metadata": {},
   "outputs": [],
   "source": [
    "# Combine ground station and satellite features\n",
    "collection = geojson.FeatureCollection([*gs_features, sat_feature])"
   ]
  },
  {
   "cell_type": "code",
   "execution_count": 8,
   "metadata": {},
   "outputs": [],
   "source": [
    "# Write GeoJSON collection in a file\n",
    "import json\n",
    "\n",
    "# data = geojson.dumps(collection, sort_keys=True)\n",
    "GEOJSON_OUTPUT = 'station_positions.geojson'\n",
    "with open(GEOJSON_OUTPUT, 'w') as out_file:\n",
    "    json.dump(collection, out_file)"
   ]
  },
  {
   "cell_type": "code",
   "execution_count": 9,
   "metadata": {},
   "outputs": [
    {
     "data": {
      "text/html": [
       "<div style=\"width:100%;\"><div style=\"position:relative;width:100%;height:0;padding-bottom:60%;\"><iframe src=\"data:text/html;charset=utf-8;base64,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\" style=\"position:absolute;width:100%;height:100%;left:0;top:0;border:none !important;\" allowfullscreen webkitallowfullscreen mozallowfullscreen></iframe></div></div>"
      ],
      "text/plain": [
       "<folium.folium.Map at 0x7f37581543c8>"
      ]
     },
     "execution_count": 9,
     "metadata": {},
     "output_type": "execute_result"
    }
   ],
   "source": [
    "# Display the GeoJSON file\n",
    "\n",
    "import folium\n",
    "\n",
    "# Load the GeoJSON file\n",
    "with open(GEOJSON_OUTPUT, 'rb') as in_file:\n",
    "    data = json.load(in_file)\n",
    "\n",
    "# Create a map centered on the first point\n",
    "m = folium.Map(location=[47.72, 14.68],\n",
    "               zoom_start=4)\n",
    "\n",
    "folium.GeoJson(\n",
    "    data,\n",
    "    name='geojson'\n",
    ").add_to(m)\n",
    "\n",
    "m"
   ]
  },
  {
   "cell_type": "code",
   "execution_count": null,
   "metadata": {},
   "outputs": [],
   "source": []
  }
 ],
 "metadata": {
  "kernelspec": {
   "display_name": "Python 3",
   "language": "python",
   "name": "python3"
  },
  "language_info": {
   "codemirror_mode": {
    "name": "ipython",
    "version": 3
   },
   "file_extension": ".py",
   "mimetype": "text/x-python",
   "name": "python",
   "nbconvert_exporter": "python",
   "pygments_lexer": "ipython3",
   "version": "3.6.5"
  }
 },
 "nbformat": 4,
 "nbformat_minor": 2
}
