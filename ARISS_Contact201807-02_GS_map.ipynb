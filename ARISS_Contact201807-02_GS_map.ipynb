{
 "cells": [
  {
   "cell_type": "markdown",
   "metadata": {},
   "source": [
    "# Path of ISS and listening SatNOGS ground stations for ARISS contact\n"
   ]
  },
  {
   "cell_type": "markdown",
   "metadata": {},
   "source": [
    "## Fetch ground station data"
   ]
  },
  {
   "cell_type": "code",
   "execution_count": 1,
   "metadata": {},
   "outputs": [],
   "source": [
    "# Insert observation_id's\n",
    "observation_ids = [173068,\n",
    "                  172768,\n",
    "                  173069,\n",
    "                  172769,\n",
    "                  173071,\n",
    "                  172766,\n",
    "                  172767]"
   ]
  },
  {
   "cell_type": "code",
   "execution_count": 2,
   "metadata": {},
   "outputs": [],
   "source": [
    "# Get station location from the observation via the observation_id\n",
    "\n",
    "import requests\n",
    "\n",
    "NETWORK_BASE_URL = 'https://network.satnogs.org/api'\n",
    "observations = []\n",
    "for observation_id in observation_ids:\n",
    "    r = requests.get(url='{}/observations/{}/'.format(NETWORK_BASE_URL, observation_id))\n",
    "    if r.status_code != requests.codes.ok:\n",
    "        print(\"Observation {} not found in network.\".format(observation_id))\n",
    "    observations.append(r.json())"
   ]
  },
  {
   "cell_type": "code",
   "execution_count": 3,
   "metadata": {},
   "outputs": [],
   "source": [
    "# Create ground station GeoJSON feature collection\n",
    "import geojson\n",
    "\n",
    "gs_features = []\n",
    "for observation in observations:\n",
    "    ob_feature = geojson.Feature(geometry=geojson.Point((observation['station_lng'],\n",
    "                                                         observation['station_lat'])),\n",
    "                                 properties=observation)\n",
    "    gs_features.append(ob_feature)\n",
    "# gs_collection = geojson.FeatureCollection(features)"
   ]
  },
  {
   "cell_type": "markdown",
   "metadata": {},
   "source": [
    "## Fetch satellite data"
   ]
  },
  {
   "cell_type": "code",
   "execution_count": 4,
   "metadata": {},
   "outputs": [],
   "source": [
    "# Find the first start time and the last end time\n",
    "from datetime import datetime, date\n",
    "\n",
    "\n",
    "start_time_str = sorted(observations, key=lambda obs: obs['start'])[0]['start']\n",
    "end_time_str = sorted(observations, key=lambda obs: obs['end'])[-1]['end']\n",
    "\n",
    "start_time = datetime.strptime(start_time_str, '%Y-%m-%dT%H:%M:%SZ')\n",
    "end_time = datetime.strptime(end_time_str, '%Y-%m-%dT%H:%M:%SZ')"
   ]
  },
  {
   "cell_type": "code",
   "execution_count": 5,
   "metadata": {},
   "outputs": [],
   "source": [
    "# Get TLE of the satellite\n",
    "# NOTE: Couldn't find an API endpoint for this,\n",
    "# leave this code here for the future\n",
    "\n",
    "norad_cat_id = observations[0]['norad_cat_id']\n",
    "DB_BASE_URL = 'https://db.satnogs.org/api'\n",
    "\n",
    "r = requests.get(url='{}/satellites/{}/'.format(DB_BASE_URL, norad_cat_id))\n",
    "if r.status_code != requests.codes.ok:\n",
    "    print(\"ERROR: Satellite {} not found in network.\".format(norad_cat_id))\n",
    "satellite_meta = r.json()\n",
    "satellite_meta['start'] = start_time_str\n",
    "satellite_meta['end'] = end_time_str"
   ]
  },
  {
   "cell_type": "code",
   "execution_count": 6,
   "metadata": {},
   "outputs": [],
   "source": [
    "# Calculate satellite ground track using pyephem\n",
    "# (Fetching the TLE wasn't possible, use hardcoded TLE instead)\n",
    "import ephem\n",
    "from datetime import datetime\n",
    "\n",
    "\n",
    "# Return 'num' evenly spaced datetimes in the range from 'start' to 'stop'\n",
    "def lin_datetime_range(start, end, num=50):\n",
    "    time_step = (end - start)/num\n",
    "    for n in range(num):\n",
    "        yield start + n * time_step\n",
    "\n",
    "line1 = \"ISS (ZARYA)\"\n",
    "\n",
    "# Source: https://network.satnogs.org/observations/173068/\n",
    "line2 = '1 25544U 98067A   18182.82365002  .00001702  00000-0  33102-4 0  9999'\n",
    "line3 = '2 25544  51.6426 305.7534 0003492 251.5586 257.2723 15.53997847120798'\n",
    "\n",
    "satellite = ephem.readtle(line1, line2, line3)\n",
    "sat_positions = []\n",
    "for t in lin_datetime_range(start_time, end_time, num=50):\n",
    "    satellite.compute(t)\n",
    "    sat_positions.append((satellite.sublong/ephem.degree,\n",
    "                         satellite.sublat/ephem.degree))\n",
    "sat_linestring = geojson.LineString(sat_positions)\n",
    "sat_feature = geojson.Feature(geometry=sat_linestring, properties=satellite_meta)"
   ]
  },
  {
   "cell_type": "markdown",
   "metadata": {},
   "source": [
    "## Combine both Features"
   ]
  },
  {
   "cell_type": "code",
   "execution_count": 7,
   "metadata": {},
   "outputs": [],
   "source": [
    "# Combine ground station and satellite features\n",
    "collection = geojson.FeatureCollection([*gs_features, sat_feature])"
   ]
  },
  {
   "cell_type": "code",
   "execution_count": 8,
   "metadata": {},
   "outputs": [],
   "source": [
    "# Write GeoJSON collection in a file\n",
    "import json\n",
    "\n",
    "# data = geojson.dumps(collection, sort_keys=True)\n",
    "GEOJSON_OUTPUT = 'station_positions.geojson'\n",
    "with open(GEOJSON_OUTPUT, 'w') as out_file:\n",
    "    json.dump(collection, out_file)"
   ]
  },
  {
   "cell_type": "code",
   "execution_count": 23,
   "metadata": {},
   "outputs": [
    {
     "data": {
      "text/html": [
       "<div style=\"width:100%;\"><div style=\"position:relative;width:100%;height:0;padding-bottom:60%;\"><iframe src=\"data:text/html;charset=utf-8;base64,PCFET0NUWVBFIGh0bWw+CjxoZWFkPiAgICAKICAgIDxtZXRhIGh0dHAtZXF1aXY9ImNvbnRlbnQtdHlwZSIgY29udGVudD0idGV4dC9odG1sOyBjaGFyc2V0PVVURi04IiAvPgogICAgPHNjcmlwdD5MX1BSRUZFUl9DQU5WQVMgPSBmYWxzZTsgTF9OT19UT1VDSCA9IGZhbHNlOyBMX0RJU0FCTEVfM0QgPSBmYWxzZTs8L3NjcmlwdD4KICAgIDxzY3JpcHQgc3JjPSJodHRwczovL2Nkbi5qc2RlbGl2ci5uZXQvbnBtL2xlYWZsZXRAMS4yLjAvZGlzdC9sZWFmbGV0LmpzIj48L3NjcmlwdD4KICAgIDxzY3JpcHQgc3JjPSJodHRwczovL2FqYXguZ29vZ2xlYXBpcy5jb20vYWpheC9saWJzL2pxdWVyeS8xLjExLjEvanF1ZXJ5Lm1pbi5qcyI+PC9zY3JpcHQ+CiAgICA8c2NyaXB0IHNyYz0iaHR0cHM6Ly9tYXhjZG4uYm9vdHN0cmFwY2RuLmNvbS9ib290c3RyYXAvMy4yLjAvanMvYm9vdHN0cmFwLm1pbi5qcyI+PC9zY3JpcHQ+CiAgICA8c2NyaXB0IHNyYz0iaHR0cHM6Ly9jZG5qcy5jbG91ZGZsYXJlLmNvbS9hamF4L2xpYnMvTGVhZmxldC5hd2Vzb21lLW1hcmtlcnMvMi4wLjIvbGVhZmxldC5hd2Vzb21lLW1hcmtlcnMuanMiPjwvc2NyaXB0PgogICAgPGxpbmsgcmVsPSJzdHlsZXNoZWV0IiBocmVmPSJodHRwczovL2Nkbi5qc2RlbGl2ci5uZXQvbnBtL2xlYWZsZXRAMS4yLjAvZGlzdC9sZWFmbGV0LmNzcyIvPgogICAgPGxpbmsgcmVsPSJzdHlsZXNoZWV0IiBocmVmPSJodHRwczovL21heGNkbi5ib290c3RyYXBjZG4uY29tL2Jvb3RzdHJhcC8zLjIuMC9jc3MvYm9vdHN0cmFwLm1pbi5jc3MiLz4KICAgIDxsaW5rIHJlbD0ic3R5bGVzaGVldCIgaHJlZj0iaHR0cHM6Ly9tYXhjZG4uYm9vdHN0cmFwY2RuLmNvbS9ib290c3RyYXAvMy4yLjAvY3NzL2Jvb3RzdHJhcC10aGVtZS5taW4uY3NzIi8+CiAgICA8bGluayByZWw9InN0eWxlc2hlZXQiIGhyZWY9Imh0dHBzOi8vbWF4Y2RuLmJvb3RzdHJhcGNkbi5jb20vZm9udC1hd2Vzb21lLzQuNi4zL2Nzcy9mb250LWF3ZXNvbWUubWluLmNzcyIvPgogICAgPGxpbmsgcmVsPSJzdHlsZXNoZWV0IiBocmVmPSJodHRwczovL2NkbmpzLmNsb3VkZmxhcmUuY29tL2FqYXgvbGlicy9MZWFmbGV0LmF3ZXNvbWUtbWFya2Vycy8yLjAuMi9sZWFmbGV0LmF3ZXNvbWUtbWFya2Vycy5jc3MiLz4KICAgIDxsaW5rIHJlbD0ic3R5bGVzaGVldCIgaHJlZj0iaHR0cHM6Ly9yYXdnaXQuY29tL3B5dGhvbi12aXN1YWxpemF0aW9uL2ZvbGl1bS9tYXN0ZXIvZm9saXVtL3RlbXBsYXRlcy9sZWFmbGV0LmF3ZXNvbWUucm90YXRlLmNzcyIvPgogICAgPHN0eWxlPmh0bWwsIGJvZHkge3dpZHRoOiAxMDAlO2hlaWdodDogMTAwJTttYXJnaW46IDA7cGFkZGluZzogMDt9PC9zdHlsZT4KICAgIDxzdHlsZT4jbWFwIHtwb3NpdGlvbjphYnNvbHV0ZTt0b3A6MDtib3R0b206MDtyaWdodDowO2xlZnQ6MDt9PC9zdHlsZT4KICAgIAogICAgICAgICAgICA8c3R5bGU+ICNtYXBfNjA1ODE5ZmIwNzVkNDg1ZmE2YmY3NWQyNWQwZjkzZGEgewogICAgICAgICAgICAgICAgcG9zaXRpb24gOiByZWxhdGl2ZTsKICAgICAgICAgICAgICAgIHdpZHRoIDogMTAwLjAlOwogICAgICAgICAgICAgICAgaGVpZ2h0OiAxMDAuMCU7CiAgICAgICAgICAgICAgICBsZWZ0OiAwLjAlOwogICAgICAgICAgICAgICAgdG9wOiAwLjAlOwogICAgICAgICAgICAgICAgfQogICAgICAgICAgICA8L3N0eWxlPgogICAgICAgIAo8L2hlYWQ+Cjxib2R5PiAgICAKICAgIAogICAgICAgICAgICA8ZGl2IGNsYXNzPSJmb2xpdW0tbWFwIiBpZD0ibWFwXzYwNTgxOWZiMDc1ZDQ4NWZhNmJmNzVkMjVkMGY5M2RhIiA+PC9kaXY+CiAgICAgICAgCjwvYm9keT4KPHNjcmlwdD4gICAgCiAgICAKCiAgICAgICAgICAgIAogICAgICAgICAgICAgICAgdmFyIGJvdW5kcyA9IG51bGw7CiAgICAgICAgICAgIAoKICAgICAgICAgICAgdmFyIG1hcF82MDU4MTlmYjA3NWQ0ODVmYTZiZjc1ZDI1ZDBmOTNkYSA9IEwubWFwKAogICAgICAgICAgICAgICAgICAgICAgICAgICAgICAgICAgJ21hcF82MDU4MTlmYjA3NWQ0ODVmYTZiZjc1ZDI1ZDBmOTNkYScsCiAgICAgICAgICAgICAgICAgICAgICAgICAgICAgICAgICB7Y2VudGVyOiBbNDEuOTkzNzM0NDcwMTkyOTksLTgwLjIwMzQ2OTAwODExODA1XSwKICAgICAgICAgICAgICAgICAgICAgICAgICAgICAgICAgIHpvb206IDQsCiAgICAgICAgICAgICAgICAgICAgICAgICAgICAgICAgICBtYXhCb3VuZHM6IGJvdW5kcywKICAgICAgICAgICAgICAgICAgICAgICAgICAgICAgICAgIGxheWVyczogW10sCiAgICAgICAgICAgICAgICAgICAgICAgICAgICAgICAgICB3b3JsZENvcHlKdW1wOiBmYWxzZSwKICAgICAgICAgICAgICAgICAgICAgICAgICAgICAgICAgIGNyczogTC5DUlMuRVBTRzM4NTcKICAgICAgICAgICAgICAgICAgICAgICAgICAgICAgICAgfSk7CiAgICAgICAgICAgIAogICAgICAgIAogICAgCiAgICAgICAgICAgIHZhciB0aWxlX2xheWVyXzE3NDcwMDAxOTlhZTRiZmNhYTJkYzM1NWVmMGFlZGRjID0gTC50aWxlTGF5ZXIoCiAgICAgICAgICAgICAgICAnaHR0cHM6Ly97c30udGlsZS5vcGVuc3RyZWV0bWFwLm9yZy97en0ve3h9L3t5fS5wbmcnLAogICAgICAgICAgICAgICAgewogICJhdHRyaWJ1dGlvbiI6IG51bGwsCiAgImRldGVjdFJldGluYSI6IGZhbHNlLAogICJtYXhab29tIjogMTgsCiAgIm1pblpvb20iOiAxLAogICJub1dyYXAiOiBmYWxzZSwKICAic3ViZG9tYWlucyI6ICJhYmMiCn0KICAgICAgICAgICAgICAgICkuYWRkVG8obWFwXzYwNTgxOWZiMDc1ZDQ4NWZhNmJmNzVkMjVkMGY5M2RhKTsKICAgICAgICAKICAgIAoKICAgICAgICAgICAgCgogICAgICAgICAgICAgICAgdmFyIGdlb19qc29uXzM0MDZmZDBhZmNmNDQ3ZTVhZTU1ZmE4ODAxMDEwMzczID0gTC5nZW9Kc29uKAogICAgICAgICAgICAgICAgICAgIHsiZmVhdHVyZXMiOiBbeyJnZW9tZXRyeSI6IHsiY29vcmRpbmF0ZXMiOiBbLTcxLjI5NywgNDIuMjkxXSwgInR5cGUiOiAiUG9pbnQifSwgInByb3BlcnRpZXMiOiB7ImNsaWVudF9tZXRhZGF0YSI6ICIiLCAiY2xpZW50X3ZlcnNpb24iOiAiIiwgImRlbW9kZGF0YSI6IFtdLCAiZW5kIjogIjIwMTgtMDctMDJUMTU6NDk6MzNaIiwgImdyb3VuZF9zdGF0aW9uIjogNTQsICJoaWdobGlnaHQiOiB7fSwgImlkIjogMTczMDY4LCAibm9yYWRfY2F0X2lkIjogMjU1NDQsICJwYXlsb2FkIjogImh0dHBzOi8vbmV0d29yay5zYXRub2dzLm9yZy9tZWRpYS9kYXRhX29icy8xNzMwNjgvc2F0bm9nc18xNzMwNjhfMjAxOC0wNy0wMlQxNS0zOC00Ny5vZ2ciLCAic3RhcnQiOiAiMjAxOC0wNy0wMlQxNTozODo0N1oiLCAic3RhdGlvbl9sYXQiOiA0Mi4yOTEsICJzdGF0aW9uX2xuZyI6IC03MS4yOTcsICJzdGF0aW9uX25hbWUiOiAiSW50aW1lbHlFaWdodHMtdmhmIiwgInN0eWxlIjoge30sICJ0cmFuc21pdHRlciI6ICJ5TXVmQ0I0NzRZSjRZUmREZXBmTVVrIiwgInZldHRlZF9zdGF0dXMiOiAiZ29vZCIsICJ3YXRlcmZhbGwiOiAiaHR0cHM6Ly9uZXR3b3JrLnNhdG5vZ3Mub3JnL21lZGlhL2RhdGFfb2JzLzE3MzA2OC93YXRlcmZhbGxfMTczMDY4XzIwMTgtMDctMDJUMTUtMzgtNDcucG5nIn0sICJ0eXBlIjogIkZlYXR1cmUifSwgeyJnZW9tZXRyeSI6IHsiY29vcmRpbmF0ZXMiOiBbLTcxLjUzOCwgNDIuNzQ0XSwgInR5cGUiOiAiUG9pbnQifSwgInByb3BlcnRpZXMiOiB7ImNsaWVudF9tZXRhZGF0YSI6ICIiLCAiY2xpZW50X3ZlcnNpb24iOiAiIiwgImRlbW9kZGF0YSI6IFtdLCAiZW5kIjogIjIwMTgtMDctMDJUMTU6NDk6MjZaIiwgImdyb3VuZF9zdGF0aW9uIjogMTIsICJoaWdobGlnaHQiOiB7fSwgImlkIjogMTcyNzY4LCAibm9yYWRfY2F0X2lkIjogMjU1NDQsICJwYXlsb2FkIjogImh0dHBzOi8vbmV0d29yay5zYXRub2dzLm9yZy9tZWRpYS9kYXRhX29icy8xNzI3Njgvc2F0bm9nc18xNzI3NjhfMjAxOC0wNy0wMlQxNS0zOC00MS5vZ2ciLCAic3RhcnQiOiAiMjAxOC0wNy0wMlQxNTozODo0MVoiLCAic3RhdGlvbl9sYXQiOiA0Mi43NDQsICJzdGF0aW9uX2xuZyI6IC03MS41MzgsICJzdGF0aW9uX25hbWUiOiAiVzJCRkoiLCAic3R5bGUiOiB7fSwgInRyYW5zbWl0dGVyIjogInFXNU4yN1F1U3JOMkpNYXNiTmlVaFIiLCAidmV0dGVkX3N0YXR1cyI6ICJnb29kIiwgIndhdGVyZmFsbCI6ICJodHRwczovL25ldHdvcmsuc2F0bm9ncy5vcmcvbWVkaWEvZGF0YV9vYnMvMTcyNzY4L3dhdGVyZmFsbF8xNzI3NjhfMjAxOC0wNy0wMlQxNS0zOC00MS5wbmcifSwgInR5cGUiOiAiRmVhdHVyZSJ9LCB7Imdlb21ldHJ5IjogeyJjb29yZGluYXRlcyI6IFstNzUuMDQ5NywgMzkuOTEwNV0sICJ0eXBlIjogIlBvaW50In0sICJwcm9wZXJ0aWVzIjogeyJjbGllbnRfbWV0YWRhdGEiOiAie1wibGF0aXR1ZGVcIjogMzkuOTExLCBcImVsZXZhdGlvblwiOiAxNi4wLCBcInJhZGlvXCI6IHtcImJiX2dhaW5cIjogbnVsbCwgXCJ2ZXJzaW9uXCI6IFwiMS4zLjBcIiwgXCJuYW1lXCI6IFwiZ3Itc2F0bm9nc1wiLCBcImFudGVubmFcIjogbnVsbCwgXCJwcG1fZXJyb3JcIjogbnVsbCwgXCJyeF9kZXh2aWNlXCI6IFwicnRsc2RyXCIsIFwiaWZfZ2FpblwiOiBudWxsLCBcInJmX2dhaW5cIjogbnVsbH0sIFwibG9uZ2l0dWRlXCI6IC03NS4wNX0iLCAiY2xpZW50X3ZlcnNpb24iOiAiMC42LjIiLCAiZGVtb2RkYXRhIjogW10sICJlbmQiOiAiMjAxOC0wNy0wMlQxNTo0OTozMVoiLCAiZ3JvdW5kX3N0YXRpb24iOiAxMDUsICJoaWdobGlnaHQiOiB7fSwgImlkIjogMTczMDY5LCAibm9yYWRfY2F0X2lkIjogMjU1NDQsICJwYXlsb2FkIjogImh0dHBzOi8vbmV0d29yay5zYXRub2dzLm9yZy9tZWRpYS9kYXRhX29icy8xNzMwNjkvc2F0bm9nc18xNzMwNjlfMjAxOC0wNy0wMlQxNS0zOC0yOS5vZ2ciLCAic3RhcnQiOiAiMjAxOC0wNy0wMlQxNTozODoyOVoiLCAic3RhdGlvbl9sYXQiOiAzOS45MTA1LCAic3RhdGlvbl9sbmciOiAtNzUuMDQ5NywgInN0YXRpb25fbmFtZSI6ICJLVTJZIiwgInN0eWxlIjoge30sICJ0cmFuc21pdHRlciI6ICJ5TXVmQ0I0NzRZSjRZUmREZXBmTVVrIiwgInZldHRlZF9zdGF0dXMiOiAiZ29vZCIsICJ3YXRlcmZhbGwiOiAiaHR0cHM6Ly9uZXR3b3JrLnNhdG5vZ3Mub3JnL21lZGlhL2RhdGFfb2JzLzE3MzA2OS93YXRlcmZhbGxfMTczMDY5XzIwMTgtMDctMDJUMTUtMzgtMjkucG5nIn0sICJ0eXBlIjogIkZlYXR1cmUifSwgeyJnZW9tZXRyeSI6IHsiY29vcmRpbmF0ZXMiOiBbLTgwLjQ4OSwgMzcuMTk0XSwgInR5cGUiOiAiUG9pbnQifSwgInByb3BlcnRpZXMiOiB7ImNsaWVudF9tZXRhZGF0YSI6ICJ7XCJsYXRpdHVkZVwiOiAzNy4xOTQsIFwiZWxldmF0aW9uXCI6IDYzNC4wLCBcInJhZGlvXCI6IHtcImJiX2dhaW5cIjogbnVsbCwgXCJ2ZXJzaW9uXCI6IFwiMS4zLjBcIiwgXCJuYW1lXCI6IFwiZ3Itc2F0bm9nc1wiLCBcImFudGVubmFcIjogbnVsbCwgXCJwcG1fZXJyb3JcIjogbnVsbCwgXCJyeF9kZXh2aWNlXCI6IFwicnRsc2RyXCIsIFwiaWZfZ2FpblwiOiBudWxsLCBcInJmX2dhaW5cIjogXCIyLjdcIn0sIFwibG9uZ2l0dWRlXCI6IC04MC40ODl9IiwgImNsaWVudF92ZXJzaW9uIjogIjAuNi4yIiwgImRlbW9kZGF0YSI6IFtdLCAiZW5kIjogIjIwMTgtMDctMDJUMTU6NDg6NTdaIiwgImdyb3VuZF9zdGF0aW9uIjogMjcsICJoaWdobGlnaHQiOiB7fSwgImlkIjogMTcyNzY5LCAibm9yYWRfY2F0X2lkIjogMjU1NDQsICJwYXlsb2FkIjogImh0dHBzOi8vbmV0d29yay5zYXRub2dzLm9yZy9tZWRpYS9kYXRhX29icy8xNzI3Njkvc2F0bm9nc18xNzI3NjlfMjAxOC0wNy0wMlQxNS0zOC0wNi5vZ2ciLCAic3RhcnQiOiAiMjAxOC0wNy0wMlQxNTozODowNloiLCAic3RhdGlvbl9sYXQiOiAzNy4xOTQsICJzdGF0aW9uX2xuZyI6IC04MC40ODksICJzdGF0aW9uX25hbWUiOiAiTkIzVCAtIFZIRiIsICJzdHlsZSI6IHt9LCAidHJhbnNtaXR0ZXIiOiAicVc1TjI3UXVTck4ySk1hc2JOaVVoUiIsICJ2ZXR0ZWRfc3RhdHVzIjogImdvb2QiLCAid2F0ZXJmYWxsIjogImh0dHBzOi8vbmV0d29yay5zYXRub2dzLm9yZy9tZWRpYS9kYXRhX29icy8xNzI3Njkvd2F0ZXJmYWxsXzE3Mjc2OV8yMDE4LTA3LTAyVDE1LTM4LTA2LnBuZyJ9LCAidHlwZSI6ICJGZWF0dXJlIn0sIHsiZ2VvbWV0cnkiOiB7ImNvb3JkaW5hdGVzIjogWy04MS42ODcsIDM4LjM1M10sICJ0eXBlIjogIlBvaW50In0sICJwcm9wZXJ0aWVzIjogeyJjbGllbnRfbWV0YWRhdGEiOiAie1wibGF0aXR1ZGVcIjogMzguMzUzLCBcImVsZXZhdGlvblwiOiAyNzAuMCwgXCJyYWRpb1wiOiB7XCJiYl9nYWluXCI6IG51bGwsIFwidmVyc2lvblwiOiBcIjEuMy4wXCIsIFwibmFtZVwiOiBcImdyLXNhdG5vZ3NcIiwgXCJhbnRlbm5hXCI6IG51bGwsIFwicHBtX2Vycm9yXCI6IFwiNVwiLCBcInJ4X2RleHZpY2VcIjogXCJydGxzZHJcIiwgXCJpZl9nYWluXCI6IG51bGwsIFwicmZfZ2FpblwiOiBcIjkuNlwifSwgXCJsb25naXR1ZGVcIjogLTgxLjY4N30iLCAiY2xpZW50X3ZlcnNpb24iOiAiMC42LjIiLCAiZGVtb2RkYXRhIjogW10sICJlbmQiOiAiMjAxOC0wNy0wMlQxNTo0ODozNFoiLCAiZ3JvdW5kX3N0YXRpb24iOiAxNDIsICJoaWdobGlnaHQiOiB7fSwgImlkIjogMTczMDcxLCAibm9yYWRfY2F0X2lkIjogMjU1NDQsICJwYXlsb2FkIjogImh0dHBzOi8vbmV0d29yay5zYXRub2dzLm9yZy9tZWRpYS9kYXRhX29icy8xNzMwNzEvc2F0bm9nc18xNzMwNzFfMjAxOC0wNy0wMlQxNS0zNy00MS5vZ2ciLCAic3RhcnQiOiAiMjAxOC0wNy0wMlQxNTozNzo0MVoiLCAic3RhdGlvbl9sYXQiOiAzOC4zNTMsICJzdGF0aW9uX2xuZyI6IC04MS42ODcsICJzdGF0aW9uX25hbWUiOiAiQ1dWUlBpMyIsICJzdHlsZSI6IHt9LCAidHJhbnNtaXR0ZXIiOiAieU11ZkNCNDc0WUo0WVJkRGVwZk1VayIsICJ2ZXR0ZWRfc3RhdHVzIjogImdvb2QiLCAid2F0ZXJmYWxsIjogImh0dHBzOi8vbmV0d29yay5zYXRub2dzLm9yZy9tZWRpYS9kYXRhX29icy8xNzMwNzEvd2F0ZXJmYWxsXzE3MzA3MV8yMDE4LTA3LTAyVDE1LTM3LTQxLnBuZyJ9LCAidHlwZSI6ICJGZWF0dXJlIn0sIHsiZ2VvbWV0cnkiOiB7ImNvb3JkaW5hdGVzIjogWy04Ni4zMDUsIDM5LjIzNl0sICJ0eXBlIjogIlBvaW50In0sICJwcm9wZXJ0aWVzIjogeyJjbGllbnRfbWV0YWRhdGEiOiAie1wibGF0aXR1ZGVcIjogMzkuMjM2LCBcImVsZXZhdGlvblwiOiAyODAuMCwgXCJyYWRpb1wiOiB7XCJiYl9nYWluXCI6IG51bGwsIFwidmVyc2lvblwiOiBcIjEuMy4wXCIsIFwibmFtZVwiOiBcImdyLXNhdG5vZ3NcIiwgXCJhbnRlbm5hXCI6IG51bGwsIFwicHBtX2Vycm9yXCI6IFwiLTNcIiwgXCJyeF9kZXh2aWNlXCI6IFwidXNycGIyMDBcIiwgXCJpZl9nYWluXCI6IG51bGwsIFwicmZfZ2FpblwiOiBudWxsfSwgXCJsb25naXR1ZGVcIjogLTg2LjMwNX0iLCAiY2xpZW50X3ZlcnNpb24iOiAiMS4wLmRldis4Mi5nYjVkMmI0OC5kaXJ0eSIsICJkZW1vZGRhdGEiOiBbXSwgImVuZCI6ICIyMDE4LTA3LTAyVDE1OjQ3OjM0WiIsICJncm91bmRfc3RhdGlvbiI6IDIsICJoaWdobGlnaHQiOiB7fSwgImlkIjogMTcyNzY2LCAibm9yYWRfY2F0X2lkIjogMjU1NDQsICJwYXlsb2FkIjogImh0dHBzOi8vbmV0d29yay5zYXRub2dzLm9yZy9tZWRpYS9kYXRhX29icy8xNzI3NjYvc2F0bm9nc18xNzI3NjZfMjAxOC0wNy0wMlQxNS0zNi00OC5vZ2ciLCAic3RhcnQiOiAiMjAxOC0wNy0wMlQxNTozNjo0OFoiLCAic3RhdGlvbl9sYXQiOiAzOS4yMzYsICJzdGF0aW9uX2xuZyI6IC04Ni4zMDUsICJzdGF0aW9uX25hbWUiOiAiS0I5SkhVIiwgInN0eWxlIjoge30sICJ0cmFuc21pdHRlciI6ICJ5TXVmQ0I0NzRZSjRZUmREZXBmTVVrIiwgInZldHRlZF9zdGF0dXMiOiAiZ29vZCIsICJ3YXRlcmZhbGwiOiAiaHR0cHM6Ly9uZXR3b3JrLnNhdG5vZ3Mub3JnL21lZGlhL2RhdGFfb2JzLzE3Mjc2Ni93YXRlcmZhbGxfMTcyNzY2XzIwMTgtMDctMDJUMTUtMzYtNDgucG5nIn0sICJ0eXBlIjogIkZlYXR1cmUifSwgeyJnZW9tZXRyeSI6IHsiY29vcmRpbmF0ZXMiOiBbLTg3LjY0LCA0MS44NF0sICJ0eXBlIjogIlBvaW50In0sICJwcm9wZXJ0aWVzIjogeyJjbGllbnRfbWV0YWRhdGEiOiAie1wibGF0aXR1ZGVcIjogNDEuODQsIFwiZWxldmF0aW9uXCI6IDE4OS4wLCBcInJhZGlvXCI6IHtcImJiX2dhaW5cIjogbnVsbCwgXCJ2ZXJzaW9uXCI6IFwiMS4zLjBcIiwgXCJuYW1lXCI6IFwiZ3Itc2F0bm9nc1wiLCBcImFudGVubmFcIjogXCJEdWFsIEJhbmQgVmVydGljYWxcIiwgXCJwcG1fZXJyb3JcIjogXCIyNVwiLCBcInJ4X2RleHZpY2VcIjogXCJydGxzZHJcIiwgXCJpZl9nYWluXCI6IG51bGwsIFwicmZfZ2FpblwiOiBcIjQ0LjVcIn0sIFwibG9uZ2l0dWRlXCI6IC04Ny42NH0iLCAiY2xpZW50X3ZlcnNpb24iOiAiMC42LjIiLCAiZGVtb2RkYXRhIjogW10sICJlbmQiOiAiMjAxOC0wNy0wMlQxNTo0NzowNFoiLCAiZ3JvdW5kX3N0YXRpb24iOiA0MSwgImhpZ2hsaWdodCI6IHt9LCAiaWQiOiAxNzI3NjcsICJub3JhZF9jYXRfaWQiOiAyNTU0NCwgInBheWxvYWQiOiAiaHR0cHM6Ly9uZXR3b3JrLnNhdG5vZ3Mub3JnL21lZGlhL2RhdGFfb2JzLzE3Mjc2Ny9zYXRub2dzXzE3Mjc2N18yMDE4LTA3LTAyVDE1LTM2LTA3Lm9nZyIsICJzdGFydCI6ICIyMDE4LTA3LTAyVDE1OjM2OjA3WiIsICJzdGF0aW9uX2xhdCI6IDQxLjg0LCAic3RhdGlvbl9sbmciOiAtODcuNjQsICJzdGF0aW9uX25hbWUiOiAiQ2hpY2FnbzEiLCAic3R5bGUiOiB7fSwgInRyYW5zbWl0dGVyIjogInlNdWZDQjQ3NFlKNFlSZERlcGZNVWsiLCAidmV0dGVkX3N0YXR1cyI6ICJnb29kIiwgIndhdGVyZmFsbCI6ICJodHRwczovL25ldHdvcmsuc2F0bm9ncy5vcmcvbWVkaWEvZGF0YV9vYnMvMTcyNzY3L3dhdGVyZmFsbF8xNzI3NjdfMjAxOC0wNy0wMlQxNS0zNi0wNy5wbmcifSwgInR5cGUiOiAiRmVhdHVyZSJ9LCB7Imdlb21ldHJ5IjogeyJjb29yZGluYXRlcyI6IFtbLTExNC41NjQ0MDIxOTQwMjQ2NywgNTEuMzE3MTY4MDgzNTAzMDA2XSwgWy0xMTIuOTc1ODE2MzA2Mjk1NiwgNTEuMTg0ODk0NjQwMDM2NTRdLCBbLTExMS4zOTc1MzAzNDM4MzQ5LCA1MS4wMjkzNTc1NzIyNTcwMDVdLCBbLTEwOS44MzEwNjc0Mzg4Mjc1LCA1MC44NTA4NDcxNjMyMDQxNF0sIFstMTA4LjI3Nzg1NTEwMDgwOTkyLCA1MC42NDk2Nzc2MDE1Nzk3NTRdLCBbLTEwNi43MzkyMjUyMTY2NzAzMiwgNTAuNDI2MjEwODg3NDA5ODY2XSwgWy0xMDUuMjE2NDIwODgwODM3NjMsIDUwLjE4MDgyMjY4MTA5ODgyXSwgWy0xMDMuNzEwNTg5NTY1MDkyNDMsIDQ5LjkxMzkzMzAzOTI4MDU2NV0sIFstMTAyLjIyMjc1NTc5NzgxMDIxLCA0OS42MjU5NzkwOTQwNjJdLCBbLTEwMC43NTM4NTUzMTQ5MDcyNywgNDkuMzE3NDE4NDY4MTE3NV0sIFstOTkuMzA0NzE0NTY5MjczMTcsIDQ4Ljk4ODcyOTI3NDY4ODk4XSwgWy05Ny44NzYwNTA3MzA3NzA3OSwgNDguNjQwNDA2NzAyNDkxMjU1XSwgWy05Ni40Njg0NzE2ODYyMzYyMSwgNDguMjcyOTU2MTg1NTIyOTFdLCBbLTk1LjA4MjQ5NjUzMDA0NjQsIDQ3Ljg4Njg5NjgxODE2MDg2NF0sIFstOTMuNzE4NTQxOTAzNzQwNywgNDcuNDgyNzQ3Njk0NzgyMDM0XSwgWy05Mi4zNzY5MjE5OTYwMjA5NCwgNDcuMDYxMDQ0OTg1MjM2MjhdLCBbLTkxLjA1Nzg2OTAzMzMxODkxLCA0Ni42MjIzMTQ2MTQwODk2OF0sIFstODkuNzYxNTQwMTA5OTg1NSwgNDYuMTY3MDg1OTIxMDAyOTE1XSwgWy04OC40ODc5OTY2OTc3MjMyOCwgNDUuNjk1ODkxNjYwNzMxMjVdLCBbLTg3LjIzNzI0NTYyNjcyMTM2LCA0NS4yMDkyNTQzNDI3NDYxOF0sIFstODYuMDA5MjExNzY0ODk4OTIsIDQ0LjcwNzY5NjQ3NjUxOTIyXSwgWy04NC44MDM3NjUzMzg2NjE3MiwgNDQuMTkxNzMwMzI2MjM4MTE1XSwgWy04My42MjA3Mjg3NjMwOTEzMiwgNDMuNjYxODU3OTEwODA2ODY2XSwgWy04Mi40NTk4NTYxNTEzNzc2MSwgNDMuMTE4NTgxMjQ5MTI5NDZdLCBbLTgxLjMyMDg3NDI5NTk1Mzc5LCA0Mi41NjIzODE4Njk1NDI0XSwgWy04MC4yMDM0NjkwMDgxMTgwNSwgNDEuOTkzNzM0NDcwMTkyOTldLCBbLTc5LjEwNzI4NTExODAzMzUzLCA0MS40MTMxMDY5MTkwMzkzOF0sIFstNzguMDMxOTMzMzA0OTE3NTYsIDQwLjgyMDk1MDAwODU2Njc4XSwgWy03Ni45NzcwMTc0MTc3OTgyNSwgNDAuMjE3NzA0Mjg1OTc2NjddLCBbLTc1Ljk0MjEwMDMyNDU2ODc2LCAzOS42MDM3OTMyMjI5OTc1OF0sIFstNzQuOTI2NzMxMjMyNzQzODIsIDM4Ljk3OTY0MDI5MTM1ODA2Nl0sIFstNzMuOTMwNDUyNTE5NjQ5MDgsIDM4LjM0NTY0MTY0MjAyOTk3XSwgWy03Mi45NTI3ODYwNzIwNDI2MywgMzcuNzAyMTkwMDEwODkwNTc1XSwgWy03MS45OTMyNjA2MDY4NzE3MywgMzcuMDQ5NjYxMDU4MzQ0MjRdLCBbLTcxLjA1MTM3MDY5MDEzNzgsIDM2LjM4ODQyMDE5OTUxMTU1XSwgWy03MC4xMjY2MzEzNzg0MDk3NywgMzUuNzE4ODIyNjA0MjI5MzVdLCBbLTY5LjIxODU1MDg5ODA2NzQsIDM1LjA0MTIwNjM2Njg2MTU2XSwgWy02OC4zMjY2MjM4MTUxMTIxMywgMzQuMzU1OTAyNzUxNTgyOTFdLCBbLTY3LjQ1MDM1ODM1NTkyMzY4LCAzMy42NjMyMjkzNjIxODk4MjRdLCBbLTY2LjU4OTI2OTU3NzA3MTAxLCAzMi45NjM0OTAxNDIxMDAzNTVdLCBbLTY1Ljc0Mjg1MjA0NDU1NTUsIDMyLjI1Njk3ODc4OTQ0ODgyXSwgWy02NC45MTA2NDEzMDU1MTM2NSwgMzEuNTQzOTg5MDAyMzY5NTMyXSwgWy02NC4wOTIxNDU1ODYzMjUxNywgMzAuODI0Nzg3MTU4MjQwMTEzXSwgWy02My4yODY4OTM2MDM5MzczNDQsIDMwLjA5OTYzOTYzNDQzODJdLCBbLTYyLjQ5NDQyMDkwNTQ4NjYxLCAyOS4zNjg4MDU5NzgxNTIyNTNdLCBbLTYxLjcxNDI3NjY5ODQ4Nzc2LCAyOC42MzI1Mjg2NjEwOTc4XSwgWy02MC45NDU5OTY1MzAwNzcyMiwgMjcuODkxMDQ4NDQ3NDQzMDk0XSwgWy02MC4xODkxNDMyNjgxNDgxLCAyNy4xNDQ1OTI0NDA5NzgwMzRdLCBbLTU5LjQ0MzI3OTc4MDU5MzU0LCAyNi4zOTMzODQzMzAzOTc5MzZdLCBbLTU4LjcwNzk4OTQyNTg3NDE2LCAyNS42Mzc2MzQxNDQwMTk3OF1dLCAidHlwZSI6ICJMaW5lU3RyaW5nIn0sICJwcm9wZXJ0aWVzIjogeyJlbmQiOiAiMjAxOC0wNy0wMlQxNTo0OTozM1oiLCAiaGlnaGxpZ2h0Ijoge30sICJpbWFnZSI6ICJodHRwczovL2RiLnNhdG5vZ3Mub3JnL21lZGlhL3NhdGVsbGl0ZXMvSVNTLmpwZyIsICJuYW1lIjogIklTUyIsICJuYW1lcyI6ICJaQVJZQSIsICJub3JhZF9jYXRfaWQiOiAyNTU0NCwgInN0YXJ0IjogIjIwMTgtMDctMDJUMTU6MzY6MDdaIiwgInN0YXR1cyI6ICJhbGl2ZSIsICJzdHlsZSI6IHt9fSwgInR5cGUiOiAiRmVhdHVyZSJ9XSwgInR5cGUiOiAiRmVhdHVyZUNvbGxlY3Rpb24ifQogICAgICAgICAgICAgICAgICAgIAogICAgICAgICAgICAgICAgICAgICkuYWRkVG8obWFwXzYwNTgxOWZiMDc1ZDQ4NWZhNmJmNzVkMjVkMGY5M2RhKTsKICAgICAgICAgICAgICAgIGdlb19qc29uXzM0MDZmZDBhZmNmNDQ3ZTVhZTU1ZmE4ODAxMDEwMzczLnNldFN0eWxlKGZ1bmN0aW9uKGZlYXR1cmUpIHtyZXR1cm4gZmVhdHVyZS5wcm9wZXJ0aWVzLnN0eWxlO30pOwoKICAgICAgICAgICAgCiAgICAKCiAgICAgICAgICAgIHZhciBtYXJrZXJfYjY1MTY5NzU3NzBmNGMzMTkzMDMxYjRlZGMzNzU2YWEgPSBMLm1hcmtlcigKICAgICAgICAgICAgICAgIFs0MC43NDY1ODQ1LC04OS41Nzc3MTRdLAogICAgICAgICAgICAgICAgewogICAgICAgICAgICAgICAgICAgIGljb246IG5ldyBMLkljb24uRGVmYXVsdCgpCiAgICAgICAgICAgICAgICAgICAgfQogICAgICAgICAgICAgICAgKQogICAgICAgICAgICAgICAgLmFkZFRvKG1hcF82MDU4MTlmYjA3NWQ0ODVmYTZiZjc1ZDI1ZDBmOTNkYSk7CiAgICAgICAgICAgIAogICAgCgogICAgICAgICAgICAgICAgdmFyIGljb25fMGI3MjgzM2Q5MjZjNGFlYThkNGZiNDJmNWYxOWE5ODMgPSBMLkF3ZXNvbWVNYXJrZXJzLmljb24oewogICAgICAgICAgICAgICAgICAgIGljb246ICdob21lJywKICAgICAgICAgICAgICAgICAgICBpY29uQ29sb3I6ICd3aGl0ZScsCiAgICAgICAgICAgICAgICAgICAgbWFya2VyQ29sb3I6ICdyZWQnLAogICAgICAgICAgICAgICAgICAgIHByZWZpeDogJ2dseXBoaWNvbicsCiAgICAgICAgICAgICAgICAgICAgZXh0cmFDbGFzc2VzOiAnZmEtcm90YXRlLTAnCiAgICAgICAgICAgICAgICAgICAgfSk7CiAgICAgICAgICAgICAgICBtYXJrZXJfYjY1MTY5NzU3NzBmNGMzMTkzMDMxYjRlZGMzNzU2YWEuc2V0SWNvbihpY29uXzBiNzI4MzNkOTI2YzRhZWE4ZDRmYjQyZjVmMTlhOTgzKTsKICAgICAgICAgICAgCiAgICAKICAgICAgICAgICAgdmFyIHBvcHVwXzRiYjJkODY1ZjcyYzRlNmNiMzkxYTk3ZTJiMWZmN2I1ID0gTC5wb3B1cCh7bWF4V2lkdGg6ICczMDAnfSk7CgogICAgICAgICAgICAKICAgICAgICAgICAgICAgIHZhciBodG1sX2QwZWI4M2M4ODk1YzRiNmZiOTE5MzQ5ODg5MmE4ZjI0ID0gJCgnPGRpdiBpZD0iaHRtbF9kMGViODNjODg5NWM0YjZmYjkxOTM0OTg4OTJhOGYyNCIgc3R5bGU9IndpZHRoOiAxMDAuMCU7IGhlaWdodDogMTAwLjAlOyI+UGVhcmwgVGVjaG5vbG9neS9SaWNod29vZHMgVG93bnNoaXAgU1RFTSBBY2FkZW15PC9kaXY+JylbMF07CiAgICAgICAgICAgICAgICBwb3B1cF80YmIyZDg2NWY3MmM0ZTZjYjM5MWE5N2UyYjFmZjdiNS5zZXRDb250ZW50KGh0bWxfZDBlYjgzYzg4OTVjNGI2ZmI5MTkzNDk4ODkyYThmMjQpOwogICAgICAgICAgICAKCiAgICAgICAgICAgIG1hcmtlcl9iNjUxNjk3NTc3MGY0YzMxOTMwMzFiNGVkYzM3NTZhYS5iaW5kUG9wdXAocG9wdXBfNGJiMmQ4NjVmNzJjNGU2Y2IzOTFhOTdlMmIxZmY3YjUpOwoKICAgICAgICAgICAgCiAgICAgICAgCjwvc2NyaXB0Pg==\" style=\"position:absolute;width:100%;height:100%;left:0;top:0;border:none !important;\" allowfullscreen webkitallowfullscreen mozallowfullscreen></iframe></div></div>"
      ],
      "text/plain": [
       "<folium.folium.Map at 0x7f8d9d1cb630>"
      ]
     },
     "execution_count": 23,
     "metadata": {},
     "output_type": "execute_result"
    }
   ],
   "source": [
    "# Display the GeoJSON file\n",
    "\n",
    "import folium\n",
    "\n",
    "# Load the GeoJSON file\n",
    "with open(GEOJSON_OUTPUT, 'r') as in_file:\n",
    "    data = json.load(in_file)\n",
    "\n",
    "# Create a map centered on midpoint of the sat ground track\n",
    "mid_lon, mid_lat = sat_positions[len(sat_positions)//2]\n",
    "m = folium.Map(location=[mid_lat, mid_lon],\n",
    "               zoom_start=4)\n",
    "\n",
    "# listening stations\n",
    "# sat ground track\n",
    "folium.GeoJson(\n",
    "    data,\n",
    "    name='geojson'\n",
    ").add_to(m)\n",
    "\n",
    "\n",
    "# marker for the contact location\n",
    "# Pearl Technology/Richwoods Township STEM Academy, Peoria Heights, IL\n",
    "folium.Marker(\n",
    "    location=[40.7465845, -89.577714],\n",
    "    popup='Pearl Technology/Richwoods Township STEM Academy',\n",
    "    icon=folium.Icon(color='red', icon='home')\n",
    ").add_to(m)\n",
    "\n",
    "m"
   ]
  },
  {
   "cell_type": "code",
   "execution_count": null,
   "metadata": {},
   "outputs": [],
   "source": []
  }
 ],
 "metadata": {
  "kernelspec": {
   "display_name": "Python 3",
   "language": "python",
   "name": "python3"
  },
  "language_info": {
   "codemirror_mode": {
    "name": "ipython",
    "version": 3
   },
   "file_extension": ".py",
   "mimetype": "text/x-python",
   "name": "python",
   "nbconvert_exporter": "python",
   "pygments_lexer": "ipython3",
   "version": "3.5.5"
  }
 },
 "nbformat": 4,
 "nbformat_minor": 2
}
